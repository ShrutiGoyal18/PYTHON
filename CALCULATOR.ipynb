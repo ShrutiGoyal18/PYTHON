{
 "cells": [
  {
   "cell_type": "code",
   "execution_count": 2,
   "id": "8c0abe73",
   "metadata": {},
   "outputs": [
    {
     "name": "stdout",
     "output_type": "stream",
     "text": [
      "Enter first number:5\n",
      "Enter another number:8\n",
      "Enter the operation:+\n",
      "5 + 8 = 13\n",
      "Do you want to calculate further(yes or no):YES\n",
      "Enter another number:6\n",
      "Enter the operation:'\n",
      "Invalid input!\n",
      "Enter the operation:-\n",
      "13 - 6 = 7\n",
      "Do you want to calculate further(yes or no):yes\n",
      "Enter another number:21\n",
      "Enter the operation:*\n",
      "7 * 21 = 147\n",
      "Do you want to calculate further(yes or no):yes\n",
      "Enter another number:2\n",
      "Enter the operation:;\n",
      "Invalid input!\n",
      "Enter the operation:/\n",
      "147 / 2 = 73.5\n",
      "Do you want to calculate further(yes or no):yes\n",
      "Enter another number:15\n",
      "Enter the operation:+\n",
      "73.5 + 15 = 88.5\n",
      "Do you want to calculate further(yes or no):no\n",
      "Final answer is 88.5\n"
     ]
    }
   ],
   "source": [
    "def operations(a,b,o):\n",
    "    if o=='+':\n",
    "        return a+b\n",
    "    elif o=='-':\n",
    "        return a-b\n",
    "    elif o=='*':\n",
    "        return a*b\n",
    "    elif o=='/':\n",
    "        return a/b\n",
    "\n",
    "def calculator(a,b):\n",
    "    \n",
    "    #a,b = int(input('Enter first number:')),int(input('Enter second number:'))\n",
    "    o = input('Enter the operation:')\n",
    "    if o in ['+','-','*','/']:\n",
    "        result = operations(a,b,o)\n",
    "        return o,result\n",
    "    else:\n",
    "        print('Invalid input!')\n",
    "        o,result = calculator(a,b)\n",
    "        return o,result\n",
    "\n",
    "a = int(input('Enter first number:'))\n",
    "\n",
    "while True:\n",
    "    \n",
    "    b = int(input('Enter another number:'))\n",
    "    o,res = calculator(a,b)\n",
    "    print(f'{a} {o} {b} = {res}')\n",
    "    \n",
    "    m = input('Do you want to calculate further(yes or no):').lower()\n",
    "    if m!='yes':\n",
    "        break\n",
    "    a = res   \n",
    "\n",
    "print(f'Final answer is {res}')"
   ]
  },
  {
   "cell_type": "code",
   "execution_count": null,
   "id": "d3b62f29",
   "metadata": {},
   "outputs": [],
   "source": []
  }
 ],
 "metadata": {
  "kernelspec": {
   "display_name": "Python 3 (ipykernel)",
   "language": "python",
   "name": "python3"
  },
  "language_info": {
   "codemirror_mode": {
    "name": "ipython",
    "version": 3
   },
   "file_extension": ".py",
   "mimetype": "text/x-python",
   "name": "python",
   "nbconvert_exporter": "python",
   "pygments_lexer": "ipython3",
   "version": "3.11.5"
  }
 },
 "nbformat": 4,
 "nbformat_minor": 5
}
