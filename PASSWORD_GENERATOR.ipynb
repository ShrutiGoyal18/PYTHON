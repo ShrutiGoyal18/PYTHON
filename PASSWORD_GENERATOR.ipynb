{
 "cells": [
  {
   "cell_type": "code",
   "execution_count": 4,
   "id": "875ecaec",
   "metadata": {},
   "outputs": [
    {
     "name": "stdout",
     "output_type": "stream",
     "text": [
      "Enter the desired length of the password(minimum length=8): 9\n",
      "Enter the complexity level (low/medium/high): HIGH\n",
      "Generated Password: @/*Gd=%?J\n"
     ]
    }
   ],
   "source": [
    "import random\n",
    "def generate_password(length,complexity):\n",
    "    \n",
    "    digits = ['0', '1', '2', '3', '4', '5', '6', '7', '8', '9'] \n",
    "\n",
    "    lowercase_characters = ['a', 'b', 'c', 'd', 'e', 'f', 'g', 'h','i', 'j', 'k', 'm', 'n', 'o', 'p', 'q','r', 's', 't', 'u', 'v', 'w', 'x', 'y', 'z'] \n",
    "\n",
    "    uppercase_characters = ['A', 'B', 'C', 'D', 'E', 'F', 'G', 'H', 'I', 'J', 'K', 'M', 'N', 'O', 'P', 'Q', 'R', 'S', 'T', 'U', 'V', 'W', 'X', 'Y', 'Z'] \n",
    "\n",
    "    special_characters = ['@', '#', '$', '%', '=', ':', '?', '.', '/', '|', '~', '*', '(', ')'] \n",
    "    \n",
    "    \n",
    "    if complexity == 'low':\n",
    "        characters = lowercase_characters + digits\n",
    "    elif complexity == 'medium':\n",
    "        characters = lowercase_characters + uppercase_characters + digits\n",
    "    elif complexity == 'high':\n",
    "        characters = lowercase_characters + uppercase_characters + digits + special_characters\n",
    "    else:\n",
    "        print(\"Complexity level is not valid(Using medium complexity)\")\n",
    "        characters = lowercase_characters + uppercase_characters + digits\n",
    "\n",
    "    #all_characters = digits + lowercase_characters + uppercase_characters + symbols\n",
    "\n",
    "    length = max(length, 8)\n",
    "\n",
    "    password = ''.join(random.choice(characters) for _ in range(length))\n",
    "    \n",
    "    return password\n",
    "\n",
    "def password():\n",
    "\n",
    "    length = int(input(\"Enter the desired length of the password(minimum length=8): \"))\n",
    "    \n",
    "    complexity = input(\"Enter the complexity level (low/medium/high): \").lower()\n",
    "\n",
    "    password = generate_password(length, complexity)\n",
    "    print(\"Generated Password:\", password)\n",
    "\n",
    "password()\n",
    "    "
   ]
  },
  {
   "cell_type": "code",
   "execution_count": null,
   "id": "12652888",
   "metadata": {},
   "outputs": [],
   "source": []
  }
 ],
 "metadata": {
  "kernelspec": {
   "display_name": "Python 3 (ipykernel)",
   "language": "python",
   "name": "python3"
  },
  "language_info": {
   "codemirror_mode": {
    "name": "ipython",
    "version": 3
   },
   "file_extension": ".py",
   "mimetype": "text/x-python",
   "name": "python",
   "nbconvert_exporter": "python",
   "pygments_lexer": "ipython3",
   "version": "3.11.5"
  }
 },
 "nbformat": 4,
 "nbformat_minor": 5
}
